{
 "cells": [
  {
   "cell_type": "code",
   "execution_count": 68,
   "metadata": {},
   "outputs": [],
   "source": [
    "import pandas as pd\n",
    "from sklearn.model_selection import train_test_split\n",
    "from sklearn.preprocessing import StandardScaler\n",
    "from tqdm import tqdm\n",
    "import matplotlib.pyplot as plt\n",
    "import numpy as np\n",
    "from sklearn import svm\n",
    "import xgboost as xgb"
   ]
  },
  {
   "cell_type": "code",
   "execution_count": 69,
   "metadata": {},
   "outputs": [
    {
     "name": "stdout",
     "output_type": "stream",
     "text": [
      "(1809, 101)\n",
      "(1809,)\n"
     ]
    }
   ],
   "source": [
    "ds_name = '20220328-or-eng-full.csv'\n",
    "test_size=0.3\n",
    "\n",
    "data = pd.read_csv(ds_name)\n",
    "\n",
    "# removed_cols = ['Postoperative Olanzapine', 'Postoperative Fluphenazine', 'Postoperative Flupentixol']\n",
    "# data = data.drop(removed_cols, axis=1)\n",
    "\n",
    "# 将特征和目标分开\n",
    "features = data.drop('Label', axis=1).values\n",
    "target = data['Label'].values\n",
    "\n",
    "print(features.shape)\n",
    "print(target.shape)"
   ]
  },
  {
   "cell_type": "code",
   "execution_count": 70,
   "metadata": {},
   "outputs": [],
   "source": [
    "# 划分训练集和测试集\n",
    "train_features, test_features, train_target, test_target = train_test_split(\n",
    "    features, target, test_size=test_size, random_state=42)"
   ]
  },
  {
   "cell_type": "code",
   "execution_count": 71,
   "metadata": {},
   "outputs": [],
   "source": [
    "def test_model(outputs, features, target):\n",
    "    # Test in all data\n",
    "    outputs = outputs > 0.5\n",
    "\n",
    "    success = np.sum(outputs == target)\n",
    "    print('Success: {}/{}'.format(success, len(target)))\n",
    "\n",
    "    acc = success / len(target)\n",
    "    print('Accuracy: {:.2f}'.format(acc))\n",
    "\n",
    "    # Confusion matrix\n",
    "    TP = np.sum((outputs == 1) & (target == 1))\n",
    "    TN = np.sum((outputs == 0) & (target == 0))\n",
    "    FP = np.sum((outputs == 1) & (target == 0))\n",
    "    FN = np.sum((outputs == 0) & (target == 1))\n",
    "\n",
    "    print('TP: {}, TN: {}, FP: {}, FN: {}'.format(TP, TN, FP, FN))\n",
    "\n",
    "    sensitivity = TP / (TP + FN)\n",
    "    specificity = TN / (TN + FP)\n",
    "    print('Sensitivity: {:.2f}, Specificity: {:.2f}'.format(sensitivity, specificity))"
   ]
  },
  {
   "cell_type": "code",
   "execution_count": 72,
   "metadata": {},
   "outputs": [
    {
     "name": "stdout",
     "output_type": "stream",
     "text": [
      "Success: 502/543\n",
      "Accuracy: 0.92\n",
      "TP: 7, TN: 495, FP: 30, FN: 11\n",
      "Sensitivity: 0.39, Specificity: 0.94\n"
     ]
    }
   ],
   "source": [
    "# 创建SVM分类器对象\n",
    "svm_classifier = svm.SVC(class_weight={0: 1, 1: 10})\n",
    "\n",
    "# 训练模型\n",
    "svm_classifier.fit(train_features, train_target)\n",
    "\n",
    "# 在测试集上进行预测\n",
    "svm_predictions = svm_classifier.predict(test_features)\n",
    "\n",
    "# 计算混淆矩阵\n",
    "test_model(svm_predictions, test_features, test_target)"
   ]
  },
  {
   "cell_type": "code",
   "execution_count": 73,
   "metadata": {},
   "outputs": [
    {
     "name": "stdout",
     "output_type": "stream",
     "text": [
      "Success: 477/543\n",
      "Accuracy: 0.88\n",
      "TP: 15, TN: 462, FP: 63, FN: 3\n",
      "Sensitivity: 0.83, Specificity: 0.88\n"
     ]
    }
   ],
   "source": [
    "# 将数据集转换为DMatrix格式\n",
    "dtrain = xgb.DMatrix(train_features, label=train_target)\n",
    "dtest = xgb.DMatrix(test_features, label=test_target)\n",
    "\n",
    "# 设置XGBoost的参数\n",
    "params = {\n",
    "    'max_depth': 5,\n",
    "    'eta': 0.01,\n",
    "    'objective': 'binary:logistic',\n",
    "    'eval_metric': 'error',\n",
    "    'scale_pos_weight': 10\n",
    "}\n",
    "\n",
    "# 训练模型\n",
    "xgb_classifier = xgb.train(params, dtrain)\n",
    "\n",
    "# 在测试集上进行预测\n",
    "xgb_predictions = xgb_classifier.predict(dtest)\n",
    "\n",
    "# 计算混淆矩阵\n",
    "test_model(xgb_predictions, test_features, test_target)"
   ]
  }
 ],
 "metadata": {
  "kernelspec": {
   "display_name": "torch201",
   "language": "python",
   "name": "python3"
  },
  "language_info": {
   "codemirror_mode": {
    "name": "ipython",
    "version": 3
   },
   "file_extension": ".py",
   "mimetype": "text/x-python",
   "name": "python",
   "nbconvert_exporter": "python",
   "pygments_lexer": "ipython3",
   "version": "3.10.11"
  },
  "orig_nbformat": 4
 },
 "nbformat": 4,
 "nbformat_minor": 2
}

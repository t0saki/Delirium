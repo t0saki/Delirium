{
 "cells": [
  {
   "cell_type": "code",
   "execution_count": 1,
   "metadata": {},
   "outputs": [],
   "source": [
    "import torch\n",
    "import torch.nn as nn\n",
    "import torch.optim as optim\n",
    "from torch.utils.data import TensorDataset, DataLoader\n",
    "import pandas as pd\n",
    "from sklearn.model_selection import train_test_split\n",
    "from sklearn.preprocessing import StandardScaler\n",
    "from tqdm import tqdm\n",
    "import matplotlib.pyplot as plt\n",
    "import numpy as np\n",
    "\n",
    "from models.MLP import MLP"
   ]
  },
  {
   "cell_type": "code",
   "execution_count": 2,
   "metadata": {},
   "outputs": [],
   "source": [
    "hidden_dim = 64\n",
    "output_dim = 1\n",
    "learning_rate = 0.00005\n",
    "num_epochs = 3000\n",
    "epochs_step = 10\n",
    "batch_size = 32\n",
    "test_size=0.3\n",
    "dropout_rate = 0.5\n",
    "pos_weight_ratio = 100\n",
    "ds_name = '20220328-or-eng-full.csv'\n",
    "train = True"
   ]
  },
  {
   "cell_type": "code",
   "execution_count": 3,
   "metadata": {},
   "outputs": [
    {
     "name": "stdout",
     "output_type": "stream",
     "text": [
      "(1809, 101)\n",
      "(1809,)\n"
     ]
    }
   ],
   "source": [
    "data = pd.read_csv(ds_name)\n",
    "\n",
    "# removed_cols = ['Postoperative Olanzapine', 'Postoperative Fluphenazine', 'Postoperative Flupentixol']\n",
    "# data = data.drop(removed_cols, axis=1)\n",
    "\n",
    "# 将特征和目标分开\n",
    "features = data.drop('Label', axis=1).values\n",
    "target = data['Label'].values\n",
    "\n",
    "print(features.shape)\n",
    "print(target.shape)"
   ]
  },
  {
   "cell_type": "code",
   "execution_count": 4,
   "metadata": {},
   "outputs": [],
   "source": [
    "# 划分训练集和测试集\n",
    "train_features, test_features, train_target, test_target = train_test_split(\n",
    "    features, target, test_size=test_size, random_state=42)"
   ]
  },
  {
   "cell_type": "code",
   "execution_count": 5,
   "metadata": {},
   "outputs": [],
   "source": [
    "# 将数据转换为PyTorch张量\n",
    "train_features = torch.Tensor(train_features)\n",
    "test_features = torch.Tensor(test_features)\n",
    "train_target = torch.tensor(train_target, dtype=torch.float32).view(-1, 1)\n",
    "test_target = torch.tensor(test_target, dtype=torch.float32).view(-1, 1)\n",
    "\n",
    "train_dataset = TensorDataset(train_features, train_target)\n",
    "train_loader = DataLoader(train_dataset, batch_size=batch_size, shuffle=True)\n",
    "\n",
    "input_dim = train_features.shape[1]"
   ]
  },
  {
   "cell_type": "code",
   "execution_count": 6,
   "metadata": {},
   "outputs": [
    {
     "name": "stdout",
     "output_type": "stream",
     "text": [
      "tensor(12.6600)\n"
     ]
    },
    {
     "name": "stderr",
     "output_type": "stream",
     "text": [
      "/tmp/ipykernel_26460/1471406686.py:4: UserWarning: To copy construct from a tensor, it is recommended to use sourceTensor.clone().detach() or sourceTensor.clone().detach().requires_grad_(True), rather than torch.tensor(sourceTensor).\n",
      "  pos_weight = torch.tensor(\n",
      "/home/tosaki/miniconda3/envs/torch201/lib/python3.10/site-packages/tqdm/auto.py:21: TqdmWarning: IProgress not found. Please update jupyter and ipywidgets. See https://ipywidgets.readthedocs.io/en/stable/user_install.html\n",
      "  from .autonotebook import tqdm as notebook_tqdm\n"
     ]
    }
   ],
   "source": [
    "model = MLP(input_dim, hidden_dim, output_dim, dropout_rate)\n",
    "optimizer = optim.Adam(model.parameters(), lr=learning_rate)\n",
    "\n",
    "pos_weight = torch.tensor(\n",
    "    len(train_target) / (2 * torch.sum(train_target)), dtype=torch.float32)\n",
    "print(pos_weight)\n",
    "criterion = nn.BCEWithLogitsLoss(pos_weight=pos_weight*30)\n",
    "\n",
    "# To device\n",
    "device = torch.device('cuda' if torch.cuda.is_available() else 'cpu')\n",
    "\n",
    "model = model.to(device)\n",
    "criterion = criterion.to(device)\n",
    "\n",
    "train_features = train_features.to(device)\n",
    "test_features = test_features.to(device)\n",
    "train_target = train_target.to(device)\n",
    "test_target = test_target.to(device)\n",
    "\n",
    "# Compile model\n",
    "model = torch.compile(model)"
   ]
  },
  {
   "cell_type": "code",
   "execution_count": 7,
   "metadata": {},
   "outputs": [],
   "source": [
    "def train_model(model, criterion, optimizer, num_epochs=100):\n",
    "    train_losses = []\n",
    "    test_accs = []\n",
    "    for epoch in tqdm(range(num_epochs)):\n",
    "        model.train()\n",
    "\n",
    "        if epoch == 750:\n",
    "            criterion = nn.BCEWithLogitsLoss(pos_weight=pos_weight*pos_weight_ratio)\n",
    "            criterion = criterion.to(device)\n",
    "\n",
    "        train_loss = 0.0\n",
    "        for batch_idx, (data, target) in enumerate(train_loader):\n",
    "            optimizer.zero_grad()\n",
    "            # To device\n",
    "            data = data.to(device)\n",
    "            target = target.to(device)\n",
    "\n",
    "            outputs = model(data)\n",
    "            loss = criterion(outputs, target)\n",
    "            loss.backward()\n",
    "            optimizer.step()\n",
    "            train_loss += loss.item()\n",
    "\n",
    "\n",
    "        # save model\n",
    "        if (epoch + 1) % epochs_step == 0:\n",
    "            # test\n",
    "            train_loss /= len(train_loader)\n",
    "            train_losses.append(train_loss)\n",
    "            model.eval()\n",
    "            outputs = model(test_features)\n",
    "            outputs = outputs > 0.5\n",
    "            acc = torch.sum(outputs == test_target).item() / len(test_target)\n",
    "            test_accs.append(acc)\n",
    "            \n",
    "            torch.save(model.state_dict(),\n",
    "                       'pths/MLP-{:04}-{:02.4f}.pth'.format(epoch + 1, acc*100))\n",
    "    return train_losses, test_accs"
   ]
  },
  {
   "cell_type": "code",
   "execution_count": 8,
   "metadata": {},
   "outputs": [
    {
     "name": "stdout",
     "output_type": "stream",
     "text": [
      "Number of positive samples: 50\n",
      "Number of negative samples: 1216\n"
     ]
    },
    {
     "name": "stderr",
     "output_type": "stream",
     "text": [
      "  0%|          | 0/3000 [00:00<?, ?it/s]/home/tosaki/miniconda3/envs/torch201/lib/python3.10/site-packages/torch/_inductor/compile_fx.py:90: UserWarning: TensorFloat32 tensor cores for float32 matrix multiplication available but not enabled. Consider setting `torch.set_float32_matmul_precision('high')` for better performance.\n",
      "  warnings.warn(\n",
      "100%|██████████| 3000/3000 [04:41<00:00, 10.67it/s]\n"
     ]
    },
    {
     "data": {
      "image/png": "[encoded data removed]",
      "text/plain": [
       "<Figure size 640x480 with 1 Axes>"
      ]
     },
     "metadata": {},
     "output_type": "display_data"
    }
   ],
   "source": [
    "if train == True:\n",
    "    # torch._dynamo.config.suppress_errors = True\n",
    "\n",
    "    # Count number of positive and negative samples\n",
    "    print('Number of positive samples: {}'.format((train_target == 1).sum()))\n",
    "    print('Number of negative samples: {}'.format((train_target == 0).sum()))\n",
    "\n",
    "    train_losses, test_accs = train_model(model, criterion, optimizer, num_epochs=num_epochs)\n",
    "\n",
    "    # Plot losses\n",
    "    plt.plot(train_losses, label='train loss')\n",
    "    plt.plot(test_accs, label='test acc')\n",
    "    plt.legend()\n",
    "    plt.show()\n",
    "\n",
    "    torch.save(model.state_dict(), 'pths/MLP-final.pth')"
   ]
  },
  {
   "cell_type": "code",
   "execution_count": 9,
   "metadata": {},
   "outputs": [],
   "source": [
    "def test_model(model, features, target):\n",
    "    # Test in all data\n",
    "    model.eval()\n",
    "    outputs = model(features)\n",
    "    outputs = outputs > 0.5\n",
    "\n",
    "    # Reshape\n",
    "    outputs = outputs.view(-1)\n",
    "    target = target.view(-1)\n",
    "    success = torch.sum(outputs == target).item()\n",
    "    print('Success: {}/{}'.format(success, len(target)))\n",
    "\n",
    "    acc = success / len(target)\n",
    "    print('Accuracy: {:.2f}'.format(acc))\n",
    "\n",
    "    # Confusion matrix\n",
    "    TP = torch.sum((outputs == 1) & (target == 1)).item()\n",
    "    TN = torch.sum((outputs == 0) & (target == 0)).item()\n",
    "    FP = torch.sum((outputs == 1) & (target == 0)).item()\n",
    "    FN = torch.sum((outputs == 0) & (target == 1)).item()\n",
    "\n",
    "    print('TP: {}, TN: {}, FP: {}, FN: {}'.format(TP, TN, FP, FN))\n",
    "\n",
    "    sensitivity = TP / (TP + FN)\n",
    "    specificity = TN / (TN + FP)\n",
    "    print('Sensitivity: {:.2f}, Specificity: {:.2f}'.format(sensitivity, specificity))"
   ]
  },
  {
   "cell_type": "code",
   "execution_count": 10,
   "metadata": {},
   "outputs": [
    {
     "name": "stdout",
     "output_type": "stream",
     "text": [
      "In test set:\n",
      "Success: 436/543\n",
      "Accuracy: 0.80\n",
      "TP: 13, TN: 423, FP: 102, FN: 5\n",
      "Sensitivity: 0.72, Specificity: 0.81\n",
      "In all data:\n",
      "Success: 1469/1809\n",
      "Accuracy: 0.81\n",
      "TP: 63, TN: 1406, FP: 335, FN: 5\n",
      "Sensitivity: 0.93, Specificity: 0.81\n"
     ]
    }
   ],
   "source": [
    "# Load model\n",
    "# model.load_state_dict(torch.load('pths/MLP-500-9.5580e-01.pth'))\n",
    "\n",
    "print('In test set:')\n",
    "test_model(model, test_features, test_target)\n",
    "\n",
    "print('\\nIn all data:')\n",
    "test_model(model, torch.Tensor(features).to(device), torch.Tensor(target).to(device))"
   ]
  }
 ],
 "metadata": {
  "kernelspec": {
   "display_name": "torch201",
   "language": "python",
   "name": "python3"
  },
  "language_info": {
   "codemirror_mode": {
    "name": "ipython",
    "version": 3
   },
   "file_extension": ".py",
   "mimetype": "text/x-python",
   "name": "python",
   "nbconvert_exporter": "python",
   "pygments_lexer": "ipython3",
   "version": "3.10.11"
  },
  "orig_nbformat": 4
 },
 "nbformat": 4,
 "nbformat_minor": 2
}

{
 "cells": [
  {
   "cell_type": "code",
   "execution_count": 11,
   "metadata": {},
   "outputs": [],
   "source": [
    "import torch\n",
    "import torch.nn as nn\n",
    "import torch.optim as optim\n",
    "from torch.utils.data import TensorDataset, DataLoader\n",
    "import pandas as pd\n",
    "from sklearn.model_selection import train_test_split\n",
    "from sklearn.preprocessing import StandardScaler\n",
    "from tqdm import tqdm\n",
    "import matplotlib.pyplot as plt\n",
    "import numpy as np\n",
    "\n",
    "from models.MLP import MLP"
   ]
  },
  {
   "cell_type": "code",
   "execution_count": 12,
   "metadata": {},
   "outputs": [],
   "source": [
    "hidden_dim = 48\n",
    "layers = 2\n",
    "output_dim = 1\n",
    "learning_rate = 0.00005\n",
    "num_epochs = 3000\n",
    "epochs_step = 10\n",
    "batch_size = 32\n",
    "test_size=0.3\n",
    "dropout_rate = 0.5\n",
    "pos_weight_ratio = 1600\n",
    "ds_name = '20220328-or-eng-full.csv'\n",
    "train = True"
   ]
  },
  {
   "cell_type": "code",
   "execution_count": 13,
   "metadata": {},
   "outputs": [
    {
     "name": "stdout",
     "output_type": "stream",
     "text": [
      "(1809, 101)\n",
      "(1809,)\n"
     ]
    }
   ],
   "source": [
    "data = pd.read_csv(ds_name)\n",
    "\n",
    "# removed_cols = ['Postoperative Olanzapine', 'Postoperative Fluphenazine', 'Postoperative Flupentixol']\n",
    "# data = data.drop(removed_cols, axis=1)\n",
    "\n",
    "# 将特征和目标分开\n",
    "features = data.drop('Label', axis=1).values\n",
    "target = data['Label'].values\n",
    "\n",
    "print(features.shape)\n",
    "print(target.shape)"
   ]
  },
  {
   "cell_type": "code",
   "execution_count": 14,
   "metadata": {},
   "outputs": [],
   "source": [
    "# 划分训练集和测试集\n",
    "train_features, test_features, train_target, test_target = train_test_split(\n",
    "    features, target, test_size=test_size, random_state=42)"
   ]
  },
  {
   "cell_type": "code",
   "execution_count": 15,
   "metadata": {},
   "outputs": [],
   "source": [
    "# 将数据转换为PyTorch张量\n",
    "train_features = torch.Tensor(train_features)\n",
    "test_features = torch.Tensor(test_features)\n",
    "train_target = torch.tensor(train_target, dtype=torch.float32).view(-1, 1)\n",
    "test_target = torch.tensor(test_target, dtype=torch.float32).view(-1, 1)\n",
    "\n",
    "train_dataset = TensorDataset(train_features, train_target)\n",
    "train_loader = DataLoader(train_dataset, batch_size=batch_size, shuffle=True)\n",
    "\n",
    "input_dim = train_features.shape[1]"
   ]
  },
  {
   "cell_type": "code",
   "execution_count": 16,
   "metadata": {},
   "outputs": [
    {
     "name": "stderr",
     "output_type": "stream",
     "text": [
      "/tmp/ipykernel_173982/3312115475.py:8: UserWarning: To copy construct from a tensor, it is recommended to use sourceTensor.clone().detach() or sourceTensor.clone().detach().requires_grad_(True), rather than torch.tensor(sourceTensor).\n",
      "  pos_weight = torch.tensor(\n"
     ]
    },
    {
     "name": "stdout",
     "output_type": "stream",
     "text": [
      "tensor(12.6600)\n"
     ]
    }
   ],
   "source": [
    "# Random seed\n",
    "torch.manual_seed(42)\n",
    "\n",
    "model = MLP(input_dim, hidden_dim, output_dim,\n",
    "            layers=layers, dropout_rate=dropout_rate)\n",
    "optimizer = optim.Adam(model.parameters(), lr=learning_rate)\n",
    "\n",
    "pos_weight = torch.tensor(\n",
    "    len(train_target) / (2 * torch.sum(train_target)), dtype=torch.float32)\n",
    "print(pos_weight)\n",
    "criterion = nn.BCEWithLogitsLoss(pos_weight=pos_weight*pos_weight_ratio)\n",
    "\n",
    "# To device\n",
    "device = torch.device('cuda' if torch.cuda.is_available() else 'cpu')\n",
    "# device = torch.device('cpu')\n",
    "torch.set_float32_matmul_precision('high')\n",
    "\n",
    "model = model.to(device)\n",
    "criterion = criterion.to(device)\n",
    "\n",
    "train_features = train_features.to(device)\n",
    "test_features = test_features.to(device)\n",
    "train_target = train_target.to(device)\n",
    "test_target = test_target.to(device)\n",
    "\n",
    "# Compile model\n",
    "model = torch.compile(model)"
   ]
  },
  {
   "cell_type": "code",
   "execution_count": 17,
   "metadata": {},
   "outputs": [],
   "source": [
    "def train_model(model, criterion, optimizer, num_epochs=100):\n",
    "    train_losses = []\n",
    "    test_accs = []\n",
    "    sensitivities = []\n",
    "    sppecificities = []\n",
    "    for epoch in tqdm(range(num_epochs)):\n",
    "        model.train()\n",
    "\n",
    "        if epoch == num_epochs // 2:\n",
    "            criterion = nn.BCEWithLogitsLoss(\n",
    "                pos_weight=pos_weight*pos_weight_ratio)\n",
    "            criterion = criterion.to(device)\n",
    "\n",
    "        train_loss = 0.0\n",
    "        for batch_idx, (data, target) in enumerate(train_loader):\n",
    "            optimizer.zero_grad()\n",
    "            # To device\n",
    "            data = data.to(device)\n",
    "            target = target.to(device)\n",
    "\n",
    "            outputs = model(data)\n",
    "            loss = criterion(outputs, target)\n",
    "            loss.backward()\n",
    "            optimizer.step()\n",
    "            train_loss += loss.item()\n",
    "\n",
    "        # save model\n",
    "        if (epoch + 1) % epochs_step == 0:\n",
    "            # test\n",
    "            train_loss /= len(train_loader)\n",
    "            train_losses.append(train_loss)\n",
    "            model.eval()\n",
    "            outputs = model(test_features)\n",
    "            outputs = outputs > 0.5\n",
    "            acc = torch.sum(outputs == test_target).item() / len(test_target)\n",
    "            test_accs.append(acc)\n",
    "\n",
    "            sensitivity = torch.sum(outputs[test_target == 1] == 1).item(\n",
    "            ) / torch.sum(test_target == 1).item()\n",
    "            sensitivities.append(sensitivity)\n",
    "\n",
    "            sppecificity = torch.sum(outputs[test_target == 0] == 0).item(\n",
    "            ) / torch.sum(test_target == 0).item()\n",
    "            sppecificities.append(sppecificity)\n",
    "\n",
    "            # torch.save(model.state_dict(),\n",
    "            #            'pths/MLP-epoch-{}-acc-{:.4f}-sens-{:.4f}.pth'.format(epoch+1, acc*100, sensitivity*100))\n",
    "    \n",
    "            if (epoch + 1) % (epochs_step*10)== 0:\n",
    "                print('Epoch [{}/{}], Loss: {:.4f}, Acc: {:.4f}, Sens: {:.4f}, Spec: {:.4f}'\n",
    "                      .format(epoch + 1, num_epochs, train_loss, acc, sensitivity, sppecificity))\n",
    "    \n",
    "    return train_losses, test_accs, sensitivities, sppecificities"
   ]
  },
  {
   "cell_type": "code",
   "execution_count": 18,
   "metadata": {},
   "outputs": [
    {
     "name": "stdout",
     "output_type": "stream",
     "text": [
      "Number of positive samples: 50\n",
      "Number of negative samples: 1216\n"
     ]
    },
    {
     "name": "stderr",
     "output_type": "stream",
     "text": [
      "  3%|▎         | 101/3000 [00:08<04:59,  9.69it/s]"
     ]
    },
    {
     "name": "stdout",
     "output_type": "stream",
     "text": [
      "Epoch [100/3000], Loss: 12.4805, Acc: 0.0331, Sens: 1.0000, Spec: 0.0000\n"
     ]
    },
    {
     "name": "stderr",
     "output_type": "stream",
     "text": [
      "  7%|▋         | 201/3000 [00:16<04:08, 11.25it/s]"
     ]
    },
    {
     "name": "stdout",
     "output_type": "stream",
     "text": [
      "Epoch [200/3000], Loss: 7.5027, Acc: 0.0571, Sens: 1.0000, Spec: 0.0248\n"
     ]
    },
    {
     "name": "stderr",
     "output_type": "stream",
     "text": [
      " 10%|█         | 302/3000 [00:25<03:31, 12.74it/s]"
     ]
    },
    {
     "name": "stdout",
     "output_type": "stream",
     "text": [
      "Epoch [300/3000], Loss: 6.5130, Acc: 0.1123, Sens: 1.0000, Spec: 0.0819\n"
     ]
    },
    {
     "name": "stderr",
     "output_type": "stream",
     "text": [
      " 13%|█▎        | 402/3000 [00:33<03:25, 12.63it/s]"
     ]
    },
    {
     "name": "stdout",
     "output_type": "stream",
     "text": [
      "Epoch [400/3000], Loss: 6.0394, Acc: 0.1786, Sens: 1.0000, Spec: 0.1505\n"
     ]
    },
    {
     "name": "stderr",
     "output_type": "stream",
     "text": [
      " 17%|█▋        | 500/3000 [00:41<03:30, 11.85it/s]"
     ]
    },
    {
     "name": "stdout",
     "output_type": "stream",
     "text": [
      "Epoch [500/3000], Loss: 5.4031, Acc: 0.2413, Sens: 1.0000, Spec: 0.2152\n"
     ]
    },
    {
     "name": "stderr",
     "output_type": "stream",
     "text": [
      " 20%|██        | 600/3000 [00:50<03:47, 10.54it/s]"
     ]
    },
    {
     "name": "stdout",
     "output_type": "stream",
     "text": [
      "Epoch [600/3000], Loss: 4.9459, Acc: 0.2873, Sens: 1.0000, Spec: 0.2629\n"
     ]
    },
    {
     "name": "stderr",
     "output_type": "stream",
     "text": [
      " 23%|██▎       | 701/3000 [01:01<03:03, 12.56it/s]"
     ]
    },
    {
     "name": "stdout",
     "output_type": "stream",
     "text": [
      "Epoch [700/3000], Loss: 5.4082, Acc: 0.3499, Sens: 1.0000, Spec: 0.3276\n"
     ]
    },
    {
     "name": "stderr",
     "output_type": "stream",
     "text": [
      " 27%|██▋       | 801/3000 [01:09<03:27, 10.60it/s]"
     ]
    },
    {
     "name": "stdout",
     "output_type": "stream",
     "text": [
      "Epoch [800/3000], Loss: 5.0983, Acc: 0.4236, Sens: 0.9444, Spec: 0.4057\n"
     ]
    },
    {
     "name": "stderr",
     "output_type": "stream",
     "text": [
      " 30%|███       | 900/3000 [01:19<03:06, 11.29it/s]"
     ]
    },
    {
     "name": "stdout",
     "output_type": "stream",
     "text": [
      "Epoch [900/3000], Loss: 4.1510, Acc: 0.4715, Sens: 0.9444, Spec: 0.4552\n"
     ]
    },
    {
     "name": "stderr",
     "output_type": "stream",
     "text": [
      " 33%|███▎      | 1002/3000 [01:27<03:02, 10.95it/s]"
     ]
    },
    {
     "name": "stdout",
     "output_type": "stream",
     "text": [
      "Epoch [1000/3000], Loss: 5.4816, Acc: 0.5046, Sens: 0.9444, Spec: 0.4895\n"
     ]
    },
    {
     "name": "stderr",
     "output_type": "stream",
     "text": [
      " 37%|███▋      | 1102/3000 [01:36<02:45, 11.49it/s]"
     ]
    },
    {
     "name": "stdout",
     "output_type": "stream",
     "text": [
      "Epoch [1100/3000], Loss: 3.2871, Acc: 0.5543, Sens: 0.8889, Spec: 0.5429\n"
     ]
    },
    {
     "name": "stderr",
     "output_type": "stream",
     "text": [
      " 40%|████      | 1201/3000 [01:45<02:25, 12.35it/s]"
     ]
    },
    {
     "name": "stdout",
     "output_type": "stream",
     "text": [
      "Epoch [1200/3000], Loss: 3.6501, Acc: 0.5875, Sens: 0.8889, Spec: 0.5771\n"
     ]
    },
    {
     "name": "stderr",
     "output_type": "stream",
     "text": [
      " 43%|████▎     | 1301/3000 [01:54<02:19, 12.15it/s]"
     ]
    },
    {
     "name": "stdout",
     "output_type": "stream",
     "text": [
      "Epoch [1300/3000], Loss: 3.0067, Acc: 0.6262, Sens: 0.8889, Spec: 0.6171\n"
     ]
    },
    {
     "name": "stderr",
     "output_type": "stream",
     "text": [
      " 47%|████▋     | 1401/3000 [02:03<02:15, 11.82it/s]"
     ]
    },
    {
     "name": "stdout",
     "output_type": "stream",
     "text": [
      "Epoch [1400/3000], Loss: 2.5660, Acc: 0.6519, Sens: 0.8889, Spec: 0.6438\n"
     ]
    },
    {
     "name": "stderr",
     "output_type": "stream",
     "text": [
      " 50%|█████     | 1501/3000 [02:11<02:12, 11.33it/s]"
     ]
    },
    {
     "name": "stdout",
     "output_type": "stream",
     "text": [
      "Epoch [1500/3000], Loss: 2.6247, Acc: 0.6906, Sens: 0.8333, Spec: 0.6857\n"
     ]
    },
    {
     "name": "stderr",
     "output_type": "stream",
     "text": [
      " 53%|█████▎    | 1601/3000 [02:20<02:00, 11.63it/s]"
     ]
    },
    {
     "name": "stdout",
     "output_type": "stream",
     "text": [
      "Epoch [1600/3000], Loss: 2.1406, Acc: 0.7109, Sens: 0.8333, Spec: 0.7067\n"
     ]
    },
    {
     "name": "stderr",
     "output_type": "stream",
     "text": [
      " 57%|█████▋    | 1701/3000 [02:28<01:50, 11.71it/s]"
     ]
    },
    {
     "name": "stdout",
     "output_type": "stream",
     "text": [
      "Epoch [1700/3000], Loss: 2.1089, Acc: 0.7403, Sens: 0.8333, Spec: 0.7371\n"
     ]
    },
    {
     "name": "stderr",
     "output_type": "stream",
     "text": [
      " 60%|██████    | 1801/3000 [02:37<01:43, 11.61it/s]"
     ]
    },
    {
     "name": "stdout",
     "output_type": "stream",
     "text": [
      "Epoch [1800/3000], Loss: 2.2473, Acc: 0.7643, Sens: 0.7778, Spec: 0.7638\n"
     ]
    },
    {
     "name": "stderr",
     "output_type": "stream",
     "text": [
      " 63%|██████▎   | 1901/3000 [02:45<01:34, 11.58it/s]"
     ]
    },
    {
     "name": "stdout",
     "output_type": "stream",
     "text": [
      "Epoch [1900/3000], Loss: 1.9709, Acc: 0.7716, Sens: 0.7222, Spec: 0.7733\n"
     ]
    },
    {
     "name": "stderr",
     "output_type": "stream",
     "text": [
      " 67%|██████▋   | 2001/3000 [02:54<01:35, 10.45it/s]"
     ]
    },
    {
     "name": "stdout",
     "output_type": "stream",
     "text": [
      "Epoch [2000/3000], Loss: 1.8073, Acc: 0.8048, Sens: 0.6667, Spec: 0.8095\n"
     ]
    },
    {
     "name": "stderr",
     "output_type": "stream",
     "text": [
      " 70%|███████   | 2101/3000 [03:03<01:17, 11.54it/s]"
     ]
    },
    {
     "name": "stdout",
     "output_type": "stream",
     "text": [
      "Epoch [2100/3000], Loss: 1.7522, Acc: 0.8140, Sens: 0.6667, Spec: 0.8190\n"
     ]
    },
    {
     "name": "stderr",
     "output_type": "stream",
     "text": [
      " 73%|███████▎  | 2201/3000 [03:12<01:05, 12.11it/s]"
     ]
    },
    {
     "name": "stdout",
     "output_type": "stream",
     "text": [
      "Epoch [2200/3000], Loss: 1.6201, Acc: 0.8287, Sens: 0.6111, Spec: 0.8362\n"
     ]
    },
    {
     "name": "stderr",
     "output_type": "stream",
     "text": [
      " 77%|███████▋  | 2301/3000 [03:20<01:00, 11.56it/s]"
     ]
    },
    {
     "name": "stdout",
     "output_type": "stream",
     "text": [
      "Epoch [2300/3000], Loss: 1.9219, Acc: 0.8361, Sens: 0.6111, Spec: 0.8438\n"
     ]
    },
    {
     "name": "stderr",
     "output_type": "stream",
     "text": [
      " 80%|████████  | 2402/3000 [03:29<00:50, 11.96it/s]"
     ]
    },
    {
     "name": "stdout",
     "output_type": "stream",
     "text": [
      "Epoch [2400/3000], Loss: 1.2789, Acc: 0.8453, Sens: 0.6111, Spec: 0.8533\n"
     ]
    },
    {
     "name": "stderr",
     "output_type": "stream",
     "text": [
      " 83%|████████▎ | 2502/3000 [03:38<00:41, 11.88it/s]"
     ]
    },
    {
     "name": "stdout",
     "output_type": "stream",
     "text": [
      "Epoch [2500/3000], Loss: 1.7963, Acc: 0.8471, Sens: 0.5556, Spec: 0.8571\n"
     ]
    },
    {
     "name": "stderr",
     "output_type": "stream",
     "text": [
      " 87%|████████▋ | 2602/3000 [03:47<00:38, 10.32it/s]"
     ]
    },
    {
     "name": "stdout",
     "output_type": "stream",
     "text": [
      "Epoch [2600/3000], Loss: 1.1595, Acc: 0.8674, Sens: 0.5000, Spec: 0.8800\n"
     ]
    },
    {
     "name": "stderr",
     "output_type": "stream",
     "text": [
      " 90%|█████████ | 2702/3000 [03:56<00:27, 10.71it/s]"
     ]
    },
    {
     "name": "stdout",
     "output_type": "stream",
     "text": [
      "Epoch [2700/3000], Loss: 1.1606, Acc: 0.8692, Sens: 0.5000, Spec: 0.8819\n"
     ]
    },
    {
     "name": "stderr",
     "output_type": "stream",
     "text": [
      " 93%|█████████▎| 2802/3000 [04:05<00:18, 10.89it/s]"
     ]
    },
    {
     "name": "stdout",
     "output_type": "stream",
     "text": [
      "Epoch [2800/3000], Loss: 1.0222, Acc: 0.8766, Sens: 0.5000, Spec: 0.8895\n"
     ]
    },
    {
     "name": "stderr",
     "output_type": "stream",
     "text": [
      " 97%|█████████▋| 2902/3000 [04:14<00:08, 10.94it/s]"
     ]
    },
    {
     "name": "stdout",
     "output_type": "stream",
     "text": [
      "Epoch [2900/3000], Loss: 0.8417, Acc: 0.8840, Sens: 0.5000, Spec: 0.8971\n"
     ]
    },
    {
     "name": "stderr",
     "output_type": "stream",
     "text": [
      "100%|██████████| 3000/3000 [04:24<00:00, 11.35it/s]\n"
     ]
    },
    {
     "name": "stdout",
     "output_type": "stream",
     "text": [
      "Epoch [3000/3000], Loss: 0.9589, Acc: 0.8877, Sens: 0.5000, Spec: 0.9010\n"
     ]
    },
    {
     "data": {
      "image/png": "[encoded data removed]",
      "text/plain": [
       "<Figure size 3000x500 with 4 Axes>"
      ]
     },
     "metadata": {},
     "output_type": "display_data"
    }
   ],
   "source": [
    "if train == True:\n",
    "    # torch._dynamo.config.suppress_errors = True\n",
    "\n",
    "    # Count number of positive and negative samples\n",
    "    print('Number of positive samples: {}'.format((train_target == 1).sum()))\n",
    "    print('Number of negative samples: {}'.format((train_target == 0).sum()))\n",
    "\n",
    "    train_losses, test_accs, sensitivities, sppecificities = train_model(\n",
    "        model, criterion, optimizer, num_epochs=num_epochs)\n",
    "\n",
    "    # Plot losses and accuracies separately\n",
    "    fig, ax = plt.subplots(nrows=1, ncols=4, figsize=(30, 5))\n",
    "    ax[0].plot(train_losses)\n",
    "    ax[0].set_xlabel('Epochs')\n",
    "    ax[0].set_ylabel('Train loss')\n",
    "    ax[0].set_yscale('log')\n",
    "    ax[1].plot(test_accs)\n",
    "    ax[1].set_xlabel('Epochs')\n",
    "    ax[1].set_ylabel('Test accuracy')\n",
    "    ax[2].plot(sensitivities)\n",
    "    ax[2].set_xlabel('Epochs')\n",
    "    ax[2].set_ylabel('Test sensitivity')\n",
    "    ax[3].plot(sppecificities)\n",
    "    ax[3].set_xlabel('Epochs')\n",
    "    ax[3].set_ylabel('Test specificity')\n",
    "    \n",
    "    plt.savefig('MLP-{:04}-{:02.4f}.png'.format(num_epochs, test_accs[-1]*100))\n",
    "    plt.show()\n",
    "\n",
    "    torch.save(model.state_dict(), 'pths/MLP-epoch-{}-acc-{:.4f}-sens-{:.4f}.pth'.format(num_epochs, test_accs[-1]*100, sensitivities[-1]*100))"
   ]
  },
  {
   "cell_type": "code",
   "execution_count": 19,
   "metadata": {},
   "outputs": [],
   "source": [
    "def test_model(model, features, target):\n",
    "    # Test in all data\n",
    "    model.eval()\n",
    "    outputs = model(features)\n",
    "    outputs = outputs > 0.5\n",
    "\n",
    "    # Reshape\n",
    "    outputs = outputs.view(-1)\n",
    "    target = target.view(-1)\n",
    "    success = torch.sum(outputs == target).item()\n",
    "    print('Success: {}/{}'.format(success, len(target)))\n",
    "\n",
    "    acc = success / len(target)\n",
    "    print('Accuracy: {:.2f}'.format(acc))\n",
    "\n",
    "    # Confusion matrix\n",
    "    TP = torch.sum((outputs == 1) & (target == 1)).item()\n",
    "    TN = torch.sum((outputs == 0) & (target == 0)).item()\n",
    "    FP = torch.sum((outputs == 1) & (target == 0)).item()\n",
    "    FN = torch.sum((outputs == 0) & (target == 1)).item()\n",
    "\n",
    "    print('TP: {}, TN: {}, FP: {}, FN: {}'.format(TP, TN, FP, FN))\n",
    "\n",
    "    sensitivity = TP / (TP + FN)\n",
    "    specificity = TN / (TN + FP)\n",
    "    print('Sensitivity: {:.2f}, Specificity: {:.2f}'.format(sensitivity, specificity))"
   ]
  },
  {
   "cell_type": "code",
   "execution_count": 20,
   "metadata": {},
   "outputs": [
    {
     "name": "stdout",
     "output_type": "stream",
     "text": [
      "In test set:\n",
      "Success: 482/543\n",
      "Accuracy: 0.89\n",
      "TP: 9, TN: 473, FP: 52, FN: 9\n",
      "Sensitivity: 0.50, Specificity: 0.90\n",
      "\n",
      "In all data:\n",
      "Success: 1638/1809\n",
      "Accuracy: 0.91\n",
      "TP: 59, TN: 1579, FP: 162, FN: 9\n",
      "Sensitivity: 0.87, Specificity: 0.91\n"
     ]
    }
   ],
   "source": [
    "# Load model\n",
    "# model.load_state_dict(torch.load('pths/MLP-500-9.5580e-01.pth'))\n",
    "\n",
    "print('In test set:')\n",
    "test_model(model, test_features, test_target)\n",
    "\n",
    "print('\\nIn all data:')\n",
    "test_model(model, torch.Tensor(features).to(device), torch.Tensor(target).to(device))"
   ]
  }
 ],
 "metadata": {
  "kernelspec": {
   "display_name": "torch201",
   "language": "python",
   "name": "python3"
  },
  "language_info": {
   "codemirror_mode": {
    "name": "ipython",
    "version": 3
   },
   "file_extension": ".py",
   "mimetype": "text/x-python",
   "name": "python",
   "nbconvert_exporter": "python",
   "pygments_lexer": "ipython3",
   "version": "3.10.11"
  },
  "orig_nbformat": 4
 },
 "nbformat": 4,
 "nbformat_minor": 2
}
